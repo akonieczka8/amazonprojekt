{
 "cells": [
  {
   "cell_type": "code",
   "execution_count": 4,
   "id": "4d43ddb5",
   "metadata": {},
   "outputs": [],
   "source": [
    "import sys\n",
    "import os\n",
    "import pandas as pd\n",
    "from sklearn.preprocessing import StandardScaler\n",
    "from sklearn.metrics.pairwise import cosine_similarity\n",
    "\n",
    "sys.path.append(os.path.abspath('..')) \n",
    "\n",
    "from src.data_loader import load_data, clean_data\n",
    "\n",
    "df = load_data()\n",
    "df = clean_data(df)\n"
   ]
  },
  {
   "cell_type": "code",
   "execution_count": 7,
   "id": "9e09aa0f",
   "metadata": {},
   "outputs": [],
   "source": [
    "# Przeskalowanie danych, aby wszystkie cechy miały taką samą wagę\n",
    "scaler = StandardScaler()\n",
    "features_scale = scaler.fit_transform(df[['stars', 'reviews', 'price']])\n",
    "\n",
    "def recommend_products(asin, top_n=5):\n",
    "    if asin not in df['asin'].values:\n",
    "        return f\"Produkt o ASIN {asin} nie istnieje.\"\n",
    "    \n",
    "    # Znalezienie indeksy produktu i kategorii\n",
    "    product_idx = df.index[df['asin'] == asin][0]\n",
    "    category = df.loc[product_idx, 'categoryName']\n",
    "    \n",
    "    # Filtrowanie produktów z tej samej kategorii\n",
    "    category_mask = df['categoryName'] == category\n",
    "    category_features = features_scale[category_mask]\n",
    "    category_indices = df.index[category_mask]\n",
    "    \n",
    "    # Wektor cech produktu\n",
    "    product_vector = features_scale[product_idx].reshape(1, -1)\n",
    "    \n",
    "    # Obliczenie podobieństwa\n",
    "    similarity = cosine_similarity(product_vector, category_features).flatten()\n",
    "    \n",
    "    # Wykluczenie produkty samego z siebie\n",
    "    similarity[category_indices.get_loc(product_idx)] = -1\n",
    "    \n",
    "    # Pobranie indeksów najbardziej podobnych produktów\n",
    "    top_indices = similarity.argsort()[-top_n:][::-1]\n",
    "    \n",
    "    # Mapuj do oryginalnych indeksów DataFrame\n",
    "    recommended_indices = category_indices[top_indices]\n",
    "    \n",
    "    return df.loc[recommended_indices, ['asin', 'title', 'stars', 'reviews', 'price', 'categoryName']]"
   ]
  },
  {
   "cell_type": "code",
   "execution_count": 8,
   "id": "02bd71c1",
   "metadata": {},
   "outputs": [
    {
     "name": "stdout",
     "output_type": "stream",
     "text": [
      "           asin                                              title  stars  \\\n",
      "2    B09B8YWXDF  Echo Dot (5th generation, 2022 release) | Big ...    4.7   \n",
      "6    B09B9615X2  Echo Dot (5th generation, 2022 release) | Big ...    4.7   \n",
      "508  B0BYPHGSMK  Echo Dot (5th generation, 2022 release), Glaci...    4.7   \n",
      "324  B0BYPHCV5L  Echo Dot (5th generation, 2022 release), Deep ...    4.7   \n",
      "217  B0BYPJ1GPZ  Echo Dot (5th generation, 2022 release), Charc...    4.7   \n",
      "\n",
      "     reviews  price    categoryName  \n",
      "2      15308  21.99  Hi-Fi Speakers  \n",
      "6      15308  21.99  Hi-Fi Speakers  \n",
      "508    15308  28.99  Hi-Fi Speakers  \n",
      "324    15308  28.99  Hi-Fi Speakers  \n",
      "217    15308  28.99  Hi-Fi Speakers  \n"
     ]
    }
   ],
   "source": [
    "# Przykład użycia\n",
    "print(recommend_products('B09B96TG33', 5))"
   ]
  }
 ],
 "metadata": {
  "kernelspec": {
   "display_name": "Projekt.venv",
   "language": "python",
   "name": "python3"
  },
  "language_info": {
   "codemirror_mode": {
    "name": "ipython",
    "version": 3
   },
   "file_extension": ".py",
   "mimetype": "text/x-python",
   "name": "python",
   "nbconvert_exporter": "python",
   "pygments_lexer": "ipython3",
   "version": "3.12.4"
  }
 },
 "nbformat": 4,
 "nbformat_minor": 5
}
